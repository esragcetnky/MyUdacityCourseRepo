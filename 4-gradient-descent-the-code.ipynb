{
 "cells": [
  {
   "cell_type": "markdown",
   "id": "947f9168",
   "metadata": {
    "papermill": {
     "duration": 0.005274,
     "end_time": "2024-02-16T17:30:39.313253",
     "exception": false,
     "start_time": "2024-02-16T17:30:39.307979",
     "status": "completed"
    },
    "tags": []
   },
   "source": [
    "# 0.Import Libraries"
   ]
  },
  {
   "cell_type": "code",
   "execution_count": 1,
   "id": "04f1a337",
   "metadata": {
    "_cell_guid": "b1076dfc-b9ad-4769-8c92-a6c4dae69d19",
    "_uuid": "8f2839f25d086af736a60e9eeb907d3b93b6e0e5",
    "execution": {
     "iopub.execute_input": "2024-02-16T17:30:39.327091Z",
     "iopub.status.busy": "2024-02-16T17:30:39.326112Z",
     "iopub.status.idle": "2024-02-16T17:30:41.944654Z",
     "shell.execute_reply": "2024-02-16T17:30:41.943231Z"
    },
    "papermill": {
     "duration": 2.62948,
     "end_time": "2024-02-16T17:30:41.947885",
     "exception": false,
     "start_time": "2024-02-16T17:30:39.318405",
     "status": "completed"
    },
    "tags": []
   },
   "outputs": [],
   "source": [
    "import numpy as np # linear algebra\n",
    "import pandas as pd # data processing, CSV file I/O (e.g. pd.read_csv)\n",
    "import matplotlib.pyplot as plt\n",
    "%matplotlib inline\n",
    "import seaborn as sns\n",
    "from sklearn import datasets\n",
    "plt.style.use('seaborn-v0_8-darkgrid')\n",
    "# Input data files are available in the read-only \"../input/\" directory\n",
    "# For example, running this (by clicking run or pressing Shift+Enter) will list all files under the input directory\n",
    "\n",
    "import os\n",
    "for dirname, _, filenames in os.walk('/kaggle/input'):\n",
    "    for filename in filenames:\n",
    "        print(os.path.join(dirname, filename))\n",
    "\n",
    "# You can write up to 20GB to the current directory (/kaggle/working/) that gets preserved as output when you create a version using \"Save & Run All\" \n",
    "# You can also write temporary files to /kaggle/temp/, but they won't be saved outside of the current session"
   ]
  },
  {
   "cell_type": "markdown",
   "id": "e77ef819",
   "metadata": {
    "papermill": {
     "duration": 0.004782,
     "end_time": "2024-02-16T17:30:41.957883",
     "exception": false,
     "start_time": "2024-02-16T17:30:41.953101",
     "status": "completed"
    },
    "tags": []
   },
   "source": [
    "# 1.Helper Functions"
   ]
  },
  {
   "cell_type": "code",
   "execution_count": 2,
   "id": "0722ac59",
   "metadata": {
    "execution": {
     "iopub.execute_input": "2024-02-16T17:30:41.969642Z",
     "iopub.status.busy": "2024-02-16T17:30:41.968995Z",
     "iopub.status.idle": "2024-02-16T17:30:41.974440Z",
     "shell.execute_reply": "2024-02-16T17:30:41.973603Z"
    },
    "papermill": {
     "duration": 0.013886,
     "end_time": "2024-02-16T17:30:41.976540",
     "exception": false,
     "start_time": "2024-02-16T17:30:41.962654",
     "status": "completed"
    },
    "tags": []
   },
   "outputs": [],
   "source": [
    "def sigmoid(x):\n",
    "    return 1 / (1 + np.exp(-x))\n",
    "\n",
    "def sigmoid_prime(x):\n",
    "    return sigmoid(x) * (1- sigmoid(x))"
   ]
  },
  {
   "cell_type": "markdown",
   "id": "c1481b6e",
   "metadata": {
    "papermill": {
     "duration": 0.004519,
     "end_time": "2024-02-16T17:30:41.985852",
     "exception": false,
     "start_time": "2024-02-16T17:30:41.981333",
     "status": "completed"
    },
    "tags": []
   },
   "source": [
    "# 2.Input, Target & Weights"
   ]
  },
  {
   "cell_type": "code",
   "execution_count": 3,
   "id": "e98551cb",
   "metadata": {
    "execution": {
     "iopub.execute_input": "2024-02-16T17:30:41.997695Z",
     "iopub.status.busy": "2024-02-16T17:30:41.997005Z",
     "iopub.status.idle": "2024-02-16T17:30:42.001541Z",
     "shell.execute_reply": "2024-02-16T17:30:42.000791Z"
    },
    "papermill": {
     "duration": 0.013226,
     "end_time": "2024-02-16T17:30:42.003658",
     "exception": false,
     "start_time": "2024-02-16T17:30:41.990432",
     "status": "completed"
    },
    "tags": []
   },
   "outputs": [],
   "source": [
    "# Input data\n",
    "x = np.array([0.1, 0.3])\n",
    "\n",
    "# Target\n",
    "y = 0.2\n",
    "\n",
    "# Input to output weights\n",
    "weights = np.array([-0.8, 0.5])\n",
    "\n",
    "# The learning rate, eta in the weight step equation\n",
    "learnrate = 0.6"
   ]
  },
  {
   "cell_type": "markdown",
   "id": "d8cfd9c1",
   "metadata": {
    "papermill": {
     "duration": 0.004579,
     "end_time": "2024-02-16T17:30:42.013046",
     "exception": false,
     "start_time": "2024-02-16T17:30:42.008467",
     "status": "completed"
    },
    "tags": []
   },
   "source": [
    "# 3.Step by Step Gradient Descent"
   ]
  },
  {
   "cell_type": "code",
   "execution_count": 4,
   "id": "5966fa57",
   "metadata": {
    "execution": {
     "iopub.execute_input": "2024-02-16T17:30:42.024247Z",
     "iopub.status.busy": "2024-02-16T17:30:42.023773Z",
     "iopub.status.idle": "2024-02-16T17:30:42.032240Z",
     "shell.execute_reply": "2024-02-16T17:30:42.031129Z"
    },
    "papermill": {
     "duration": 0.01723,
     "end_time": "2024-02-16T17:30:42.034876",
     "exception": false,
     "start_time": "2024-02-16T17:30:42.017646",
     "status": "completed"
    },
    "tags": []
   },
   "outputs": [
    {
     "data": {
      "text/plain": [
       "0.06999999999999998"
      ]
     },
     "execution_count": 4,
     "metadata": {},
     "output_type": "execute_result"
    }
   ],
   "source": [
    "h = np.dot(x,weights)\n",
    "h"
   ]
  },
  {
   "cell_type": "code",
   "execution_count": 5,
   "id": "78c05105",
   "metadata": {
    "execution": {
     "iopub.execute_input": "2024-02-16T17:30:42.047047Z",
     "iopub.status.busy": "2024-02-16T17:30:42.046613Z",
     "iopub.status.idle": "2024-02-16T17:30:42.053652Z",
     "shell.execute_reply": "2024-02-16T17:30:42.052615Z"
    },
    "papermill": {
     "duration": 0.015801,
     "end_time": "2024-02-16T17:30:42.055860",
     "exception": false,
     "start_time": "2024-02-16T17:30:42.040059",
     "status": "completed"
    },
    "tags": []
   },
   "outputs": [
    {
     "data": {
      "text/plain": [
       "0.5174928576663897"
      ]
     },
     "execution_count": 5,
     "metadata": {},
     "output_type": "execute_result"
    }
   ],
   "source": [
    "prediction = sigmoid(h)\n",
    "prediction"
   ]
  },
  {
   "cell_type": "code",
   "execution_count": 6,
   "id": "1640ea7a",
   "metadata": {
    "execution": {
     "iopub.execute_input": "2024-02-16T17:30:42.067662Z",
     "iopub.status.busy": "2024-02-16T17:30:42.067239Z",
     "iopub.status.idle": "2024-02-16T17:30:42.073942Z",
     "shell.execute_reply": "2024-02-16T17:30:42.072948Z"
    },
    "papermill": {
     "duration": 0.015351,
     "end_time": "2024-02-16T17:30:42.076196",
     "exception": false,
     "start_time": "2024-02-16T17:30:42.060845",
     "status": "completed"
    },
    "tags": []
   },
   "outputs": [
    {
     "data": {
      "text/plain": [
       "-0.31749285766638974"
      ]
     },
     "execution_count": 6,
     "metadata": {},
     "output_type": "execute_result"
    }
   ],
   "source": [
    "error = y - prediction\n",
    "error"
   ]
  },
  {
   "cell_type": "code",
   "execution_count": 7,
   "id": "8a98bfc8",
   "metadata": {
    "execution": {
     "iopub.execute_input": "2024-02-16T17:30:42.088314Z",
     "iopub.status.busy": "2024-02-16T17:30:42.087886Z",
     "iopub.status.idle": "2024-02-16T17:30:42.094992Z",
     "shell.execute_reply": "2024-02-16T17:30:42.093915Z"
    },
    "papermill": {
     "duration": 0.015882,
     "end_time": "2024-02-16T17:30:42.097288",
     "exception": false,
     "start_time": "2024-02-16T17:30:42.081406",
     "status": "completed"
    },
    "tags": []
   },
   "outputs": [
    {
     "data": {
      "text/plain": [
       "0.24969399993066344"
      ]
     },
     "execution_count": 7,
     "metadata": {},
     "output_type": "execute_result"
    }
   ],
   "source": [
    "# output gradient (f'(h))\n",
    "output_grad = sigmoid_prime(h)\n",
    "output_grad"
   ]
  },
  {
   "cell_type": "code",
   "execution_count": 8,
   "id": "6228ef98",
   "metadata": {
    "execution": {
     "iopub.execute_input": "2024-02-16T17:30:42.109877Z",
     "iopub.status.busy": "2024-02-16T17:30:42.109066Z",
     "iopub.status.idle": "2024-02-16T17:30:42.115984Z",
     "shell.execute_reply": "2024-02-16T17:30:42.114941Z"
    },
    "papermill": {
     "duration": 0.015714,
     "end_time": "2024-02-16T17:30:42.118264",
     "exception": false,
     "start_time": "2024-02-16T17:30:42.102550",
     "status": "completed"
    },
    "tags": []
   },
   "outputs": [
    {
     "data": {
      "text/plain": [
       "-0.07927606158013766"
      ]
     },
     "execution_count": 8,
     "metadata": {},
     "output_type": "execute_result"
    }
   ],
   "source": [
    "# error term (lowercase delta)\n",
    "error_term = error * output_grad\n",
    "error_term"
   ]
  },
  {
   "cell_type": "code",
   "execution_count": 9,
   "id": "2df9adbc",
   "metadata": {
    "execution": {
     "iopub.execute_input": "2024-02-16T17:30:42.130871Z",
     "iopub.status.busy": "2024-02-16T17:30:42.130413Z",
     "iopub.status.idle": "2024-02-16T17:30:42.138208Z",
     "shell.execute_reply": "2024-02-16T17:30:42.137046Z"
    },
    "papermill": {
     "duration": 0.016717,
     "end_time": "2024-02-16T17:30:42.140380",
     "exception": false,
     "start_time": "2024-02-16T17:30:42.123663",
     "status": "completed"
    },
    "tags": []
   },
   "outputs": [
    {
     "data": {
      "text/plain": [
       "[-0.00475656369480826, -0.014269691084424777]"
      ]
     },
     "execution_count": 9,
     "metadata": {},
     "output_type": "execute_result"
    }
   ],
   "source": [
    "# Gradient descent step \n",
    "del_w = [ learnrate  *error_term*  x[0],\n",
    "          learnrate  *error_term*  x[1]]\n",
    "# or del_w = learnrate  *error_term*  x\n",
    "\n",
    "del_w"
   ]
  },
  {
   "cell_type": "code",
   "execution_count": 10,
   "id": "d4cdf103",
   "metadata": {
    "execution": {
     "iopub.execute_input": "2024-02-16T17:30:42.153436Z",
     "iopub.status.busy": "2024-02-16T17:30:42.152627Z",
     "iopub.status.idle": "2024-02-16T17:30:42.160384Z",
     "shell.execute_reply": "2024-02-16T17:30:42.159255Z"
    },
    "papermill": {
     "duration": 0.016633,
     "end_time": "2024-02-16T17:30:42.162542",
     "exception": false,
     "start_time": "2024-02-16T17:30:42.145909",
     "status": "completed"
    },
    "tags": []
   },
   "outputs": [
    {
     "data": {
      "text/plain": [
       "array([-0.80142697,  0.49571909])"
      ]
     },
     "execution_count": 10,
     "metadata": {},
     "output_type": "execute_result"
    }
   ],
   "source": [
    "weights += np.dot(del_w,learnrate) / 2 \n",
    "weights"
   ]
  },
  {
   "cell_type": "code",
   "execution_count": 11,
   "id": "0f351682",
   "metadata": {
    "execution": {
     "iopub.execute_input": "2024-02-16T17:30:42.175776Z",
     "iopub.status.busy": "2024-02-16T17:30:42.175281Z",
     "iopub.status.idle": "2024-02-16T17:30:42.182755Z",
     "shell.execute_reply": "2024-02-16T17:30:42.181696Z"
    },
    "papermill": {
     "duration": 0.016599,
     "end_time": "2024-02-16T17:30:42.184955",
     "exception": false,
     "start_time": "2024-02-16T17:30:42.168356",
     "status": "completed"
    },
    "tags": []
   },
   "outputs": [
    {
     "data": {
      "text/plain": [
       "0.5171365432081484"
      ]
     },
     "execution_count": 11,
     "metadata": {},
     "output_type": "execute_result"
    }
   ],
   "source": [
    "new_prediction = sigmoid(np.dot(x,weights))\n",
    "new_prediction"
   ]
  },
  {
   "cell_type": "markdown",
   "id": "3d22682b",
   "metadata": {
    "papermill": {
     "duration": 0.00526,
     "end_time": "2024-02-16T17:30:42.197086",
     "exception": false,
     "start_time": "2024-02-16T17:30:42.191826",
     "status": "completed"
    },
    "tags": []
   },
   "source": [
    "# 4.Gradient Descent Steps in a loop"
   ]
  },
  {
   "cell_type": "code",
   "execution_count": 12,
   "id": "93e069e4",
   "metadata": {
    "execution": {
     "iopub.execute_input": "2024-02-16T17:30:42.209954Z",
     "iopub.status.busy": "2024-02-16T17:30:42.209427Z",
     "iopub.status.idle": "2024-02-16T17:30:42.247923Z",
     "shell.execute_reply": "2024-02-16T17:30:42.246683Z"
    },
    "papermill": {
     "duration": 0.04811,
     "end_time": "2024-02-16T17:30:42.250647",
     "exception": false,
     "start_time": "2024-02-16T17:30:42.202537",
     "status": "completed"
    },
    "tags": []
   },
   "outputs": [],
   "source": [
    "prediction_list=[]\n",
    "for i in range(2000):\n",
    "    h = np.dot(x,weights)\n",
    "    prediction = sigmoid(h)\n",
    "    error = y - prediction\n",
    "    output_grad = sigmoid_prime(h)\n",
    "    error_term = error * output_grad\n",
    "    del_w = [ learnrate  *error_term*  x[0],\n",
    "          learnrate  *error_term*  x[1]]\n",
    "    weights += np.dot(del_w,learnrate) / 2 \n",
    "    new_prediction = sigmoid(np.dot(x,weights))\n",
    "    prediction_list.append(new_prediction)"
   ]
  },
  {
   "cell_type": "markdown",
   "id": "2cc399d9",
   "metadata": {
    "papermill": {
     "duration": 0.005678,
     "end_time": "2024-02-16T17:30:42.262247",
     "exception": false,
     "start_time": "2024-02-16T17:30:42.256569",
     "status": "completed"
    },
    "tags": []
   },
   "source": [
    "**In the graph below, you can see that with each iteration our predictions come closer to the target (0.2)**"
   ]
  },
  {
   "cell_type": "code",
   "execution_count": 13,
   "id": "5a16b09a",
   "metadata": {
    "execution": {
     "iopub.execute_input": "2024-02-16T17:30:42.275975Z",
     "iopub.status.busy": "2024-02-16T17:30:42.275486Z",
     "iopub.status.idle": "2024-02-16T17:30:42.528823Z",
     "shell.execute_reply": "2024-02-16T17:30:42.527530Z"
    },
    "papermill": {
     "duration": 0.262916,
     "end_time": "2024-02-16T17:30:42.531175",
     "exception": false,
     "start_time": "2024-02-16T17:30:42.268259",
     "status": "completed"
    },
    "tags": []
   },
   "outputs": [
    {
     "data": {
      "image/png": "[encoded data removed]",
      "text/plain": [
       "<Figure size 640x480 with 1 Axes>"
      ]
     },
     "metadata": {},
     "output_type": "display_data"
    }
   ],
   "source": [
    "plt.plot(prediction_list)\n",
    "# specifying horizontal line type \n",
    "plt.axhline(y = 0.2, color = 'r', linestyle = '-') \n",
    "plt.legend(['Predictions','Target'])\n",
    "plt.show()"
   ]
  }
 ],
 "metadata": {
  "kaggle": {
   "accelerator": "none",
   "dataSources": [],
   "dockerImageVersionId": 30646,
   "isGpuEnabled": false,
   "isInternetEnabled": true,
   "language": "python",
   "sourceType": "notebook"
  },
  "kernelspec": {
   "display_name": "Python 3",
   "language": "python",
   "name": "python3"
  },
  "language_info": {
   "codemirror_mode": {
    "name": "ipython",
    "version": 3
   },
   "file_extension": ".py",
   "mimetype": "text/x-python",
   "name": "python",
   "nbconvert_exporter": "python",
   "pygments_lexer": "ipython3",
   "version": "3.10.13"
  },
  "papermill": {
   "default_parameters": {},
   "duration": 6.999832,
   "end_time": "2024-02-16T17:30:43.360587",
   "environment_variables": {},
   "exception": null,
   "input_path": "__notebook__.ipynb",
   "output_path": "__notebook__.ipynb",
   "parameters": {},
   "start_time": "2024-02-16T17:30:36.360755",
   "version": "2.5.0"
  }
 },
 "nbformat": 4,
 "nbformat_minor": 5
}
